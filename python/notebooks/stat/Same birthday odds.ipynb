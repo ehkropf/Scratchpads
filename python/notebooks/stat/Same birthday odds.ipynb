{
 "cells": [
  {
   "cell_type": "markdown",
   "metadata": {},
   "source": [
    "Calculating probability that at least two people in a group of $n$ people have the same birthday."
   ]
  },
  {
   "cell_type": "code",
   "execution_count": 41,
   "metadata": {
    "collapsed": true
   },
   "outputs": [],
   "source": [
    "def Pnosame(n):\n",
    "    '''Probability no one out of n people have the same birthday.'''\n",
    "    P = 1\n",
    "    for a in range(365-n+1, 365):\n",
    "        P *= a/365\n",
    "    return P"
   ]
  },
  {
   "cell_type": "code",
   "execution_count": 49,
   "metadata": {
    "collapsed": false
   },
   "outputs": [
    {
     "name": "stdout",
     "output_type": "stream",
     "text": [
      "20: 0.47569530766254997\n",
      "21: 0.5072972343239853\n",
      "22: 0.5383442579145288\n",
      "23: 0.5686997039694637\n",
      "24: 0.5982408201359389\n",
      "25: 0.626859282263242\n",
      "26: 0.6544614723423994\n",
      "27: 0.680968537477777\n",
      "28: 0.7063162427192686\n",
      "29: 0.7304546337286439\n"
     ]
    }
   ],
   "source": [
    "# for n in range(10, 100, 10):\n",
    "for n in range(20, 30):\n",
    "    print('{}: {}'.format(n, 1 - Pnosame(n)))"
   ]
  },
  {
   "cell_type": "markdown",
   "metadata": {},
   "source": [
    "Don't actually need the binomial coefficient, but since it's written ..."
   ]
  },
  {
   "cell_type": "code",
   "execution_count": 32,
   "metadata": {
    "collapsed": true
   },
   "outputs": [],
   "source": [
    "def binom(n, k):\n",
    "    '''Binomial coefficient.'''\n",
    "    if k > n/2:\n",
    "        k = n - k\n",
    "    v = 1\n",
    "    for a, b in zip(range(n-k+1, n+1), range(1, k+1)):\n",
    "        v *= a/b\n",
    "    return int(v)"
   ]
  }
 ],
 "metadata": {
  "kernelspec": {
   "display_name": "Python 3",
   "language": "python",
   "name": "python3"
  },
  "language_info": {
   "codemirror_mode": {
    "name": "ipython",
    "version": 3
   },
   "file_extension": ".py",
   "mimetype": "text/x-python",
   "name": "python",
   "nbconvert_exporter": "python",
   "pygments_lexer": "ipython3",
   "version": "3.5.2"
  }
 },
 "nbformat": 4,
 "nbformat_minor": 2
}
