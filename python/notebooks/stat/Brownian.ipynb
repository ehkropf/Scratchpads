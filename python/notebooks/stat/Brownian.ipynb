{
 "cells": [
  {
   "cell_type": "code",
   "execution_count": null,
   "metadata": {
    "collapsed": false
   },
   "outputs": [],
   "source": [
    "import numpy as np\n",
    "from math import sqrt\n",
    "from numpy.random import normal\n",
    "import matplotlib.pyplot as plt"
   ]
  },
  {
   "cell_type": "code",
   "execution_count": null,
   "metadata": {
    "collapsed": false
   },
   "outputs": [],
   "source": [
    "nt = 100 # number of time steps\n",
    "t = np.linspace(0., 1., nt)"
   ]
  },
  {
   "cell_type": "markdown",
   "metadata": {},
   "source": [
    "Simulate \"standard\" Brownian motion.\n",
    "$$ B(t_i) = \\sum_{k=1}^i \\sqrt{t_k - t_{k-1}} Z_k $$"
   ]
  },
  {
   "cell_type": "code",
   "execution_count": null,
   "metadata": {
    "collapsed": false
   },
   "outputs": [],
   "source": [
    "Z = normal(size=nt-1)\n",
    "B = [sqrt(t[i] - t[i-1])*Z[i-1] for i in range(1, nt)]\n",
    "B.insert(0, 0.)\n",
    "B = np.cumsum(np.array(B))\n",
    "\n",
    "plt.plot(t, B)\n",
    "plt.xlim([0, t[-1]])\n",
    "plt.show()"
   ]
  },
  {
   "cell_type": "markdown",
   "metadata": {},
   "source": [
    "Brownian motion with drift $\\mu$.\n",
    "$$ X(t_i) = \\sum_{k=1}^i \\left( \\sigma \\sqrt{t_k - t_{k-1}}Z_k + \\mu(t_k - t_{k-1}) \\right) $$"
   ]
  },
  {
   "cell_type": "code",
   "execution_count": null,
   "metadata": {
    "collapsed": false
   },
   "outputs": [],
   "source": [
    "mu = 1.\n",
    "sigma = 0.5\n",
    "Z = normal(size=nt-1)\n",
    "X = [sigma*sqrt(t[i] - t[i-1])*Z[i-1] + mu*(t[i] - t[i-1]) for i in range(1, nt)]\n",
    "X.insert(0, 0.)\n",
    "X = np.cumsum(np.array(X))\n",
    "\n",
    "plt.plot(t, X)\n",
    "plt.xlim([0, t[-1]])\n",
    "plt.show()"
   ]
  }
 ],
 "metadata": {
  "kernelspec": {
   "display_name": "Python 3",
   "language": "python",
   "name": "python3"
  },
  "language_info": {
   "codemirror_mode": {
    "name": "ipython",
    "version": 3
   },
   "file_extension": ".py",
   "mimetype": "text/x-python",
   "name": "python",
   "nbconvert_exporter": "python",
   "pygments_lexer": "ipython3",
   "version": "3.5.2"
  }
 },
 "nbformat": 4,
 "nbformat_minor": 2
}
