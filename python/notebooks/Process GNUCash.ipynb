{
 "cells": [
  {
   "cell_type": "code",
   "execution_count": null,
   "metadata": {
    "collapsed": false
   },
   "outputs": [],
   "source": [
    "import sys\n",
    "import csv\n",
    "import locale\n",
    "locale.setlocale(locale.LC_ALL, '')"
   ]
  },
  {
   "cell_type": "code",
   "execution_count": null,
   "metadata": {
    "collapsed": true
   },
   "outputs": [],
   "source": [
    "downloads = '/Users/ehkropf/Downloads/'\n",
    "csvname = downloads + 'expenses2016.csv'\n",
    "# outfname = 'stdout'\n",
    "outfname = downloads + 'processed2016.csv'"
   ]
  },
  {
   "cell_type": "code",
   "execution_count": null,
   "metadata": {
    "collapsed": false
   },
   "outputs": [],
   "source": [
    "class Record:\n",
    "    def __init__(self):\n",
    "        self.date = ''\n",
    "        self.account = ''\n",
    "        self.description = ''\n",
    "        self.notes = ''\n",
    "        self.category = ''\n",
    "        self.cost = ''\n",
    "        \n",
    "    def headline(self):\n",
    "        return 'Date,Account,Description,Notes,Category,Cost'\n",
    "    \n",
    "    def isempty(self):\n",
    "        return True if self.date == '' else False\n",
    "    \n",
    "    def outline(self):\n",
    "        return (self.date + ','\n",
    "                + self.account + ','\n",
    "                + self.description + ','\n",
    "                + self.notes + ','\n",
    "                + self.category + ','\n",
    "                + self.cost)"
   ]
  },
  {
   "cell_type": "code",
   "execution_count": null,
   "metadata": {
    "collapsed": true
   },
   "outputs": [],
   "source": [
    "catMapTV = {'Netflix':'Television', 'NowTV':'Television'}"
   ]
  },
  {
   "cell_type": "code",
   "execution_count": null,
   "metadata": {
    "collapsed": false
   },
   "outputs": [],
   "source": [
    "if outfname == 'stdout':\n",
    "    outf = sys.stdout\n",
    "else:\n",
    "    outf = open(outfname, mode='w')\n",
    "\n",
    "f = open(csvname)\n",
    "reader = csv.reader(f, delimiter=',')\n",
    "# Throw away first line.\n",
    "reader.__next__()\n",
    "\n",
    "rec = Record()\n",
    "print(rec.headline(), file=outf)\n",
    "rline = 0\n",
    "for line in reader:        \n",
    "    if line[0] == '':\n",
    "        rline += 1\n",
    "    else:\n",
    "        rline = 1\n",
    "    \n",
    "    if rline == 1:\n",
    "        if not rec.isempty():\n",
    "            print(rec.outline(), file=outf)\n",
    "            rec = Record()\n",
    "        rec.date = line[0]\n",
    "        rec.account = line[1].strip(' Acct')\n",
    "        rec.description = line[3]\n",
    "        rec.notes = line[4]\n",
    "        if ',' in rec.notes:\n",
    "            rec.notes = '\"' + rec.notes + '\"'\n",
    "        if rec.description in catMapTV:\n",
    "            rec.category = catMapTV[rec.description]\n",
    "        else:\n",
    "            rec.category = line[6]\n",
    "    elif rline == 2:\n",
    "        rec.cost = line[13]\n",
    "        if ',' in rec.cost:\n",
    "            rec.cost = '{}'.format(locale.atof(rec.cost))\n",
    "    else:\n",
    "        pass\n",
    "    \n",
    "f.close()\n",
    "if not outf == sys.stdout:\n",
    "    outf.close()"
   ]
  }
 ],
 "metadata": {
  "kernelspec": {
   "display_name": "Python 3",
   "language": "python",
   "name": "python3"
  },
  "language_info": {
   "codemirror_mode": {
    "name": "ipython",
    "version": 3
   },
   "file_extension": ".py",
   "mimetype": "text/x-python",
   "name": "python",
   "nbconvert_exporter": "python",
   "pygments_lexer": "ipython3",
   "version": "3.5.2"
  }
 },
 "nbformat": 4,
 "nbformat_minor": 2
}
