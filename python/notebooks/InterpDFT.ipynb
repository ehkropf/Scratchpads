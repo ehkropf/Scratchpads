{
 "cells": [
  {
   "cell_type": "markdown",
   "metadata": {},
   "source": [
    "# Setup"
   ]
  },
  {
   "cell_type": "code",
   "execution_count": 1,
   "metadata": {},
   "outputs": [],
   "source": [
    "import numpy as np\n",
    "import math\n",
    "from scipy.fftpack import fft, ifft\n",
    "import matplotlib.pyplot as plt"
   ]
  },
  {
   "cell_type": "markdown",
   "metadata": {},
   "source": [
    "Sample data (canonical m=2 example from SKPrime):"
   ]
  },
  {
   "cell_type": "code",
   "execution_count": 2,
   "metadata": {},
   "outputs": [],
   "source": [
    "dv = np.array([-0.2517+0.3129j, 0.2307-0.4667j])\n",
    "qv = np.array([0.2377, 0.1557])\n",
    "m = dv.size"
   ]
  },
  {
   "cell_type": "markdown",
   "metadata": {},
   "source": [
    "Some useful constructs."
   ]
  },
  {
   "cell_type": "code",
   "execution_count": 3,
   "metadata": {},
   "outputs": [],
   "source": [
    "def polyval(c, z):\n",
    "    \"Polynomial evaluation using Horner's method.\"\n",
    "    \n",
    "    p = np.zeros(z.shape, dtype=z.dtype)\n",
    "    for a in c:\n",
    "        p = p*z + a\n",
    "        \n",
    "    return p"
   ]
  },
  {
   "cell_type": "code",
   "execution_count": 4,
   "metadata": {},
   "outputs": [],
   "source": [
    "i2pi = 2.0j*math.pi\n",
    "\n",
    "def boundaryPoints(N, rot=0.):\n",
    "    \"Generate N points on each boundary circle, including unit.\"\n",
    "    \n",
    "    m = dv.size\n",
    "    circ = np.exp(i2pi*np.arange(N, dtype=np.double)/N + rot)\n",
    "    z = np.empty((m+1, N), dtype=np.complex_)\n",
    "    z[0,:] = circ\n",
    "    for d, q, j in zip(dv, qv, range(m)):\n",
    "        z[j+1,:] = d + q*circ\n",
    "        \n",
    "    return z"
   ]
  },
  {
   "cell_type": "code",
   "execution_count": 5,
   "metadata": {},
   "outputs": [],
   "source": [
    "def rinterp(z, a):\n",
    "    \"Real interpolant on boundary circles.\"\n",
    "    \"Expect each row of z on separate boundary.\"\n",
    "    \n",
    "    w = np.empty(z.shape, dtype=np.double)\n",
    "    a[:,0] /= 2.\n",
    "    for j, d, q in zip(range(m+1), np.hstack([0., dv]), np.hstack([1., qv])):\n",
    "        w[j,:] = 2.*polyval(np.flip(a[j,:]), (zt[j,:] - d)/q).real\n",
    "        \n",
    "    return w"
   ]
  },
  {
   "cell_type": "code",
   "execution_count": 6,
   "metadata": {},
   "outputs": [],
   "source": [
    "def cinterp(z, c):\n",
    "    \"Complex interpolant on boundary circles.\"\n",
    "    \"Expect each row of z on separate boundary.\"\n",
    "    \n",
    "    M = c[0,:].size\n",
    "    kend = M//2 + 1\n",
    "    w = np.empty(z.shape, dtype=np.complex_)\n",
    "    for j, d, q in zip(range(m+1), np.hstack([0., dv]), np.hstack([1., qv])):\n",
    "        w[j,:] = (c[j,0] \n",
    "                  + polyval( np.hstack([np.flip(c[j,1:kend]), np.zeros((1,))]), (z[j,:] - d)/q )\n",
    "                  + polyval( np.hstack([c[j,kend:], np.zeros((1,))]), q/(z[j,:] - d) )\n",
    "                 )\n",
    "        \n",
    "    return w"
   ]
  },
  {
   "cell_type": "code",
   "execution_count": 7,
   "metadata": {},
   "outputs": [],
   "source": [
    "def afunction(z):\n",
    "    \"Put a pole in each circle center.\"\n",
    "    \n",
    "    w = z**2\n",
    "#     w = np.zeros(z.shape, z.dtype)\n",
    "#     for d, q in zip(dv, qv):\n",
    "#         w += 1./(z - d)\n",
    "        \n",
    "    return w\n",
    "\n",
    "# real and imaginary parts\n",
    "g = lambda z: afunction(z).real\n",
    "h = lambda z: afunction(z).imag"
   ]
  },
  {
   "cell_type": "code",
   "execution_count": 8,
   "metadata": {},
   "outputs": [],
   "source": [
    "def afunctionD(z):\n",
    "    \"First derivative of afunction(z).\"\n",
    "    \n",
    "    w = 2.*z\n",
    "#     w = np.zeros(z.shape, z.dtype)\n",
    "#     for d, q in zip(dv, qv):\n",
    "#         zmd = z - d\n",
    "#         w += -1./zmd/zmd\n",
    "        \n",
    "    return w"
   ]
  },
  {
   "cell_type": "markdown",
   "metadata": {},
   "source": [
    "# Complex interpolant"
   ]
  },
  {
   "cell_type": "markdown",
   "metadata": {},
   "source": [
    "Sample $M$ points on each boundary."
   ]
  },
  {
   "cell_type": "code",
   "execution_count": 9,
   "metadata": {},
   "outputs": [],
   "source": [
    "M = 64\n",
    "zb = boundaryPoints(M)"
   ]
  },
  {
   "cell_type": "code",
   "execution_count": 10,
   "metadata": {},
   "outputs": [],
   "source": [
    "c = np.empty(zb.shape, dtype=np.complex_)\n",
    "for j in range(m+1):\n",
    "    c[j,:] = fft(afunction(zb[j,:]))/M"
   ]
  },
  {
   "cell_type": "code",
   "execution_count": 11,
   "metadata": {},
   "outputs": [
    {
     "data": {
      "image/png": "[encoded data removed]",
      "text/plain": [
       "<Figure size 432x288 with 1 Axes>"
      ]
     },
     "metadata": {
      "needs_background": "light"
     },
     "output_type": "display_data"
    }
   ],
   "source": [
    "plt.plot(abs(c[1,:]))\n",
    "plt.yscale('log')"
   ]
  },
  {
   "cell_type": "markdown",
   "metadata": {
    "collapsed": true
   },
   "source": [
    "Pick points not in samples and compare interpolate with actual."
   ]
  },
  {
   "cell_type": "code",
   "execution_count": 12,
   "metadata": {},
   "outputs": [],
   "source": [
    "zt = boundaryPoints(M, 1j/M/2.)"
   ]
  },
  {
   "cell_type": "code",
   "execution_count": 13,
   "metadata": {},
   "outputs": [
    {
     "data": {
      "text/plain": [
       "array([1.26584901e-15, 1.69399989e-16, 1.75541673e-16])"
      ]
     },
     "execution_count": 13,
     "metadata": {},
     "output_type": "execute_result"
    }
   ],
   "source": [
    "wt = cinterp(zt, c)\n",
    "np.max(abs(afunction(zt) - wt), axis=1)"
   ]
  },
  {
   "cell_type": "markdown",
   "metadata": {},
   "source": [
    "# Real interpolant"
   ]
  },
  {
   "cell_type": "markdown",
   "metadata": {},
   "source": [
    "Create real-valued interpolation coefficients ($a_k$) for real part of sample funciton via FFT. Only need to store 1/2 of the coefficients since $a_k = \\overline{a_{-k}}$."
   ]
  },
  {
   "cell_type": "code",
   "execution_count": 14,
   "metadata": {},
   "outputs": [],
   "source": [
    "a = np.empty(zb.shape, dtype=np.complex_)\n",
    "for j in range(m+1):\n",
    "    a[j,:] = fft(g(zb[j,:]))/M\n",
    "a = a[:,0:M//2+1]"
   ]
  },
  {
   "cell_type": "markdown",
   "metadata": {},
   "source": [
    "Compute real interpolant by row; check values with source function."
   ]
  },
  {
   "cell_type": "code",
   "execution_count": 15,
   "metadata": {},
   "outputs": [
    {
     "name": "stdout",
     "output_type": "stream",
     "text": [
      "[9.99200722e-16 1.66533454e-16 1.66533454e-16]\n"
     ]
    }
   ],
   "source": [
    "gt = rinterp(zt, a)\n",
    "print(np.max(abs(g(zt) - gt), axis=1))"
   ]
  },
  {
   "cell_type": "markdown",
   "metadata": {},
   "source": [
    "Look at relationship $a_k = {1\\over2} \\{ c_k + \\overline{c_{-k}} \\}$"
   ]
  },
  {
   "cell_type": "code",
   "execution_count": 16,
   "metadata": {},
   "outputs": [],
   "source": [
    "ac = np.empty(a.shape, dtype=np.complex_)\n",
    "ac[:,0] = c[:,0].real/2.\n",
    "kend = M//2 + 1\n",
    "if (M % 2) == 0:\n",
    "    # There is a nyquist component.\n",
    "    ac[:,1:kend-1] = (c[:,1:kend-1] + np.fliplr(c[:,kend:]).conj())/2.\n",
    "    ac[:,kend-1] = c[:,kend-1].real/2.\n",
    "else:\n",
    "    # There is not.\n",
    "    ac[:,1:kend] = (c[:,kend] + np.fliplr(c[kend:]).conj())/2."
   ]
  },
  {
   "cell_type": "code",
   "execution_count": 17,
   "metadata": {},
   "outputs": [
    {
     "name": "stdout",
     "output_type": "stream",
     "text": [
      "[3.96274779e-17 1.38524936e-17 1.38777878e-17]\n"
     ]
    }
   ],
   "source": [
    "print(np.max(abs(a - ac), axis=1))"
   ]
  },
  {
   "cell_type": "markdown",
   "metadata": {},
   "source": [
    "Now consider $b_k = \\frac{1}{2j} \\{ c_k - \\overline{c_{-k}} \\}$."
   ]
  },
  {
   "cell_type": "code",
   "execution_count": 18,
   "metadata": {},
   "outputs": [],
   "source": [
    "b = np.empty(zb.shape, dtype=np.complex_)\n",
    "for j in range(m+1):\n",
    "    b[j,:] = fft(h(zb[j,:]))/M\n",
    "b = b[:,0:M//2+1]"
   ]
  },
  {
   "cell_type": "code",
   "execution_count": 19,
   "metadata": {},
   "outputs": [
    {
     "name": "stdout",
     "output_type": "stream",
     "text": [
      "[1.11022302e-15 1.66533454e-16 1.11022302e-16]\n"
     ]
    }
   ],
   "source": [
    "ht = rinterp(zt, b)\n",
    "print(np.max(abs(h(zt) - ht), axis=1))"
   ]
  },
  {
   "cell_type": "code",
   "execution_count": 20,
   "metadata": {},
   "outputs": [],
   "source": [
    "bc = np.empty(b.shape, dtype=np.complex_)\n",
    "bc[:,0] = c[:,0].imag/2.\n",
    "if (M % 2) == 0:\n",
    "    bc[:,1:kend-1] = (c[:,1:kend-1] - np.fliplr(c[:,kend:]).conj())/2.j\n",
    "    bc[:,kend-1] = c[:,kend-1].imag/2.\n",
    "else:\n",
    "    bc[:,1:kend] = (c[:,kend] - np.fliplr(c[kend:]).conj())/2.j"
   ]
  },
  {
   "cell_type": "code",
   "execution_count": 21,
   "metadata": {},
   "outputs": [
    {
     "name": "stdout",
     "output_type": "stream",
     "text": [
      "[5.41707838e-17 1.38777878e-17 1.96297363e-17]\n"
     ]
    }
   ],
   "source": [
    "print(np.max(abs(b - bc), axis=1))"
   ]
  },
  {
   "cell_type": "markdown",
   "metadata": {},
   "source": [
    "# Derivatives"
   ]
  },
  {
   "cell_type": "code",
   "execution_count": 30,
   "metadata": {},
   "outputs": [
    {
     "name": "stdout",
     "output_type": "stream",
     "text": [
      "[  0   1   2   3   4   5   6   7   8   9  10  11  12  13  14  15  16  17\n",
      "  18  19  20  21  22  23  24  25  26  27  28  29  30  31  32 -32 -31 -30\n",
      " -29 -28 -27 -26 -25 -24 -23 -22 -21 -20 -19 -18 -17 -16 -15 -14 -13 -12\n",
      " -11 -10  -9  -8  -7  -6  -5  -4  -3  -2  -1]\n",
      "(65,)\n",
      "[3.999708   1.54831477 1.23237544]\n"
     ]
    },
    {
     "data": {
      "text/plain": [
       "<matplotlib.legend.Legend at 0x1082dc860>"
      ]
     },
     "execution_count": 30,
     "metadata": {},
     "output_type": "execute_result"
    },
    {
     "data": {
      "image/png": "[encoded data removed]",
      "text/plain": [
       "<Figure size 432x288 with 1 Axes>"
      ]
     },
     "metadata": {
      "needs_background": "light"
     },
     "output_type": "display_data"
    }
   ],
   "source": [
    "M = 65\n",
    "N = M//2\n",
    "\n",
    "zb = boundaryPoints(M)\n",
    "w = afunction(zb)\n",
    "wp = afunctionD(zb)\n",
    "\n",
    "if M % 2 == 0:\n",
    "    k = np.hstack([np.arange(N), np.array([0]), np.arange(-N+1, 0)])\n",
    "else:\n",
    "    k = np.hstack([np.arange(N+1), np.arange(-N, 0)])\n",
    "print(k)\n",
    "print(k.shape)\n",
    "\n",
    "wtf = np.fft.ifft(1.j*k*np.fft.fft(afunction(zb)))\n",
    "print(np.max(abs(wtf - afunctionD(zb)), axis=1))\n",
    "\n",
    "plt.plot(w[0,:].real, label='afunction.real')\n",
    "# plt.plot(w[0,:].imag, label='afunction.imag')\n",
    "plt.plot(wp[0,:].real, label='an.deriv.real')\n",
    "plt.plot(wtf[0,:].real, label='dft.deriv.real')\n",
    "plt.legend(loc='lower left')"
   ]
  },
  {
   "cell_type": "code",
   "execution_count": 23,
   "metadata": {},
   "outputs": [
    {
     "name": "stdout",
     "output_type": "stream",
     "text": [
      "[  0   1   2   3   4   5   6   7   8   9  10  11  12  13  14  15  16  17\n",
      "  18  19  20  21  22  23  24  25  26  27  28  29  30  31  32 -32 -31 -30\n",
      " -29 -28 -27 -26 -25 -24 -23 -22 -21 -20 -19 -18 -17 -16 -15 -14 -13 -12\n",
      " -11 -10  -9  -8  -7  -6  -5  -4  -3  -2  -1]\n",
      "(65,)\n",
      "(65,)\n",
      "3.520147021340204\n"
     ]
    },
    {
     "data": {
      "image/png": "[encoded data removed]",
      "text/plain": [
       "<Figure size 432x288 with 1 Axes>"
      ]
     },
     "metadata": {
      "needs_background": "light"
     },
     "output_type": "display_data"
    }
   ],
   "source": [
    "import numpy as np\n",
    "import matplotlib.pyplot as plt\n",
    "\n",
    "N = 65 #number of points\n",
    "N2 = N//2\n",
    "L = 2 * np.pi #interval of data\n",
    "\n",
    "x = np.arange(0.0, L, L/float(N)) #this does not include the endpoint\n",
    "\n",
    "y = afunction(np.exp(1j*x)).real # np.sin(x)\n",
    "dy_analytical = afunctionD(np.exp(1j*x)).real # np.cos(x)\n",
    "\n",
    "'''\n",
    "http://sci.tech-archive.net/Archive/sci.math/2008-05/msg00401.html\n",
    "\n",
    "you can use fft to calculate derivatives!\n",
    "'''\n",
    "\n",
    "if N % 2 == 0:\n",
    "    k = np.hstack([np.arange(N2), np.array([0]), np.arange(-N2+1, 0)])\n",
    "#     k = np.asarray(range(0, N / 2) + [0] + range(-N / 2 + 1,0))\n",
    "else:\n",
    "    k = np.hstack([np.arange(N2+1), np.arange(-N2, 0)])\n",
    "#     k = np.asarray(range(0,(N - 1) / 2) + [0] + range(-(N - 1) / 2, 0))\n",
    "print(k)\n",
    "print(k.shape)\n",
    "print(y.shape)\n",
    "# k = k * 2 * np.pi / L\n",
    "# k *= 2 * np.pi / L\n",
    "\n",
    "fd = np.real(np.fft.ifft(1.0j * k * np.fft.fft(y)))\n",
    "print(max(abs(fd - dy_analytical)))\n",
    "\n",
    "plt.plot(x, y, label='function')\n",
    "plt.plot(x,dy_analytical,label='analytical der')\n",
    "plt.plot(x,fd,label='fft der')\n",
    "plt.legend(loc='lower left')\n",
    "\n",
    "# plt.savefig('images/fft-der.png')\n",
    "plt.show()"
   ]
  }
 ],
 "metadata": {
  "kernelspec": {
   "display_name": "Python 3",
   "language": "python",
   "name": "python3"
  },
  "language_info": {
   "codemirror_mode": {
    "name": "ipython",
    "version": 3
   },
   "file_extension": ".py",
   "mimetype": "text/x-python",
   "name": "python",
   "nbconvert_exporter": "python",
   "pygments_lexer": "ipython3",
   "version": "3.6.8"
  }
 },
 "nbformat": 4,
 "nbformat_minor": 1
}
