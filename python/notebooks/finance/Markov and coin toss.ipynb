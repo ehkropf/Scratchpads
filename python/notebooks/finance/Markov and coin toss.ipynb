{
 "cells": [
  {
   "cell_type": "markdown",
   "metadata": {},
   "source": [
    "# Markov and martingale properties"
   ]
  },
  {
   "cell_type": "code",
   "execution_count": null,
   "metadata": {
    "collapsed": true
   },
   "outputs": [],
   "source": [
    "import numpy as np\n",
    "import numpy.random as rn\n",
    "import matplotlib.pyplot as plt"
   ]
  },
  {
   "cell_type": "markdown",
   "metadata": {},
   "source": [
    "## Markov property\n",
    "\n",
    "A stochastic process $Z_i$ is said to have the *Markov property* if, given a present state, the future state does not depend on a past state.\n",
    "\n",
    "Define the partial sum of the process by $S_i = \\sum_{k=1}^i Z_k$. The process $S_i$ has the property if for any $i$ we have\n",
    "$$ E\\left[ S_i | Z_k, k < i \\right] = S_{i-1}. $$"
   ]
  },
  {
   "cell_type": "code",
   "execution_count": null,
   "metadata": {
    "collapsed": false
   },
   "outputs": [],
   "source": [
    "def cointoss(n):\n",
    "    return 2*rn.randint(0, 2, n) - 1\n",
    "\n",
    "nt = 1000\n",
    "t = np.arange(nt) + 1\n",
    "for _ in range(3):\n",
    "    S = np.cumsum(cointoss(nt))\n",
    "    plt.plot(t, S)\n",
    "    \n",
    "plt.show()"
   ]
  }
 ],
 "metadata": {
  "kernelspec": {
   "display_name": "Python 3",
   "language": "python",
   "name": "python3"
  },
  "language_info": {
   "codemirror_mode": {
    "name": "ipython",
    "version": 3
   },
   "file_extension": ".py",
   "mimetype": "text/x-python",
   "name": "python",
   "nbconvert_exporter": "python",
   "pygments_lexer": "ipython3",
   "version": "3.5.3"
  }
 },
 "nbformat": 4,
 "nbformat_minor": 2
}
