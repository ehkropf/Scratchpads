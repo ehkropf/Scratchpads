{
 "cells": [
  {
   "cell_type": "markdown",
   "metadata": {},
   "source": [
    "# Log normal for stock price"
   ]
  },
  {
   "cell_type": "code",
   "execution_count": null,
   "metadata": {
    "collapsed": true
   },
   "outputs": [],
   "source": [
    "import pandas as pd\n",
    "import numpy as np\n",
    "import matplotlib.pyplot as plt\n",
    "np.random.seed()"
   ]
  },
  {
   "cell_type": "markdown",
   "metadata": {},
   "source": [
    "## Stats from price\n",
    "\n",
    "The IBM stock price was downloaded from [Google Finance](https://www.google.com/finance?q=NYSE%3AIBM&ei=yoGkWJiPIszEU9rvtfAB) on 15 Feb 2017."
   ]
  },
  {
   "cell_type": "code",
   "execution_count": null,
   "metadata": {
    "collapsed": true
   },
   "outputs": [],
   "source": [
    "ibm = pd.read_csv('ibm.csv')\n",
    "ibm['Date'] = pd.to_datetime(ibm['Date'])\n",
    "ibm.set_index('Date', inplace=True, verify_integrity=True)\n",
    "ibm.sort_index(inplace=True)"
   ]
  },
  {
   "cell_type": "markdown",
   "metadata": {},
   "source": [
    "Let $r_i$ be the rate of return given stock prices $S_i$ and $S_{i-1}$ for time $t_i$ and $t_{i-1}$, *e.g.*,\n",
    "$$ r_i = \\frac{S_i - S_{i-1}}{S_{i-1}}. $$\n",
    "If we assume the price of the stock is log normally distributed, then $\\log(1+r_i)$ is normally distributed since\n",
    "$$ 1+r_i = \\frac{S_i}{S_{i-1}} = e^{\\log\\left( \\frac{S_i}{S_{i-1}} \\right)}. $$\n",
    "(Note that in practice, $1+r_i$ is close to 1 most of the time, so $\\log(1+r_i)$ is close to zero, which means $\\log(1+r_i)$ is close to $r_i$ most of the time.)\n",
    "\n",
    "For $n$ stock price data points, let $Y_i = \\log(S_i/S_{i-1})$ where $i\\in[0,n)$. To compute the drift (mean) and volatility (standard deviation) from the data, we use the unbiased estimators\n",
    "$$ \\mu = E[Y] $$\n",
    "and\n",
    "$$ \\sigma^2 = \\frac{n}{n-1}\\left( E[Y^2] - \\mu^2 \\right). $$"
   ]
  },
  {
   "cell_type": "code",
   "execution_count": null,
   "metadata": {
    "collapsed": false
   },
   "outputs": [],
   "source": [
    "Y = np.diff(np.log(ibm['Close']))\n",
    "n = Y.size\n",
    "mu = Y.mean()\n",
    "sigma = np.sqrt(((Y**2.).mean() - mu**2)*(n/(n-1)))\n",
    "print('mu = ', mu)\n",
    "print('sigma = ', sigma)"
   ]
  },
  {
   "cell_type": "markdown",
   "metadata": {},
   "source": [
    "To check our variables, we plot the stock price vs. $e^{i\\mu}$ for $i\\in[0,n)$."
   ]
  },
  {
   "cell_type": "code",
   "execution_count": null,
   "metadata": {
    "collapsed": false
   },
   "outputs": [],
   "source": [
    "ibm.plot(y='Close')\n",
    "plt.plot(ibm.index, ibm['Close'][0]*np.exp(np.arange(0, n+1)*mu))\n",
    "plt.show()"
   ]
  },
  {
   "cell_type": "markdown",
   "metadata": {},
   "source": [
    "We can also see that most of the returns lie within $2\\sigma$ of $\\mu$, which matches the empirical rule which says 95% of observations fall within $2\\sigma$ of the mean."
   ]
  },
  {
   "cell_type": "code",
   "execution_count": null,
   "metadata": {
    "collapsed": false
   },
   "outputs": [],
   "source": [
    "xlim = [0, n-1]\n",
    "plt.plot([0, n-1], [mu+2*sigma, mu+2*sigma], color='tab:green')\n",
    "plt.plot([0, n-1], [mu-2*sigma, mu-2*sigma], color='tab:green')\n",
    "plt.plot([0, n-1], [mu, mu], color='tab:red')\n",
    "plt.xlim([0, n-1])\n",
    "plt.plot(Y, marker='.', ls='', color='tab:blue')\n",
    "plt.show()"
   ]
  },
  {
   "cell_type": "markdown",
   "metadata": {},
   "source": [
    "## Simulating price\n",
    "\n",
    "Recall that if we define $X = e^{\\sigma Z + \\mu}$ for $Z\\sim N(0, 1)$, then $X\\sim N(\\mu, \\sigma^2)$.\n",
    "\n",
    "So the model above suggests that if we consider price $S_{i-1}$, then price $S_i$ is modeled by\n",
    "$$ S_i = S_{i-1} X. $$\n",
    "Given the initial price $S_0$, this means we can find any $S_i$ given a sequence of *i.i.d.* variables $X_i = e^{\\sigma Z_i + \\mu}$ for *i.i.d.* $Z_i\\sim N(0, 1)$ by\n",
    "$$ S_i = S_0 \\prod_{k=1}^i X_i. $$"
   ]
  },
  {
   "cell_type": "code",
   "execution_count": null,
   "metadata": {
    "collapsed": true
   },
   "outputs": [],
   "source": [
    "def gbm(S0, mu, sigma, n):\n",
    "    X = np.exp(sigma*np.random.normal(0, 1, n) + mu)\n",
    "    X = np.insert(X, 0, 1.)\n",
    "    return S0*np.cumprod(X)"
   ]
  },
  {
   "cell_type": "markdown",
   "metadata": {},
   "source": [
    "To compare the simulated price and the actual price, we run 10 simulations and plot them in blue against the actual price in black. It becomes quickly clear the strength and weakness of this price model."
   ]
  },
  {
   "cell_type": "code",
   "execution_count": null,
   "metadata": {
    "collapsed": false
   },
   "outputs": [],
   "source": [
    "ibm.plot(y='Close', color='k')\n",
    "S0 = ibm['Close'][0]\n",
    "for _ in range(0, 10):\n",
    "    plt.plot(ibm.index, gbm(S0, mu, sigma, n), 'tab:cyan', zorder=1)\n",
    "plt.show()"
   ]
  },
  {
   "cell_type": "markdown",
   "metadata": {},
   "source": [
    "## References\n",
    "\n",
    "[Lognormal model for stock prices](http://www.math.ucsd.edu/~msharpe/stockgrowth.pdf)"
   ]
  },
  {
   "cell_type": "markdown",
   "metadata": {},
   "source": [
    "## Appendix\n",
    "### Quant Start point of view\n",
    "\n",
    "This site seems like it has some information, but the very basic stuff is scattered. [Time series analysys](https://www.quantstart.com/articles/Beginners-Guide-to-Time-Series-Analysis) lists some articles (that seem yet to be written), one including a series on stochastic models, which include\n",
    "[geometric Brownian motion](https://www.quantstart.com/articles/Geometric-Brownian-Motion).\n",
    "This seems to be derived from the\n",
    "[stochastic differential equation](https://www.quantstart.com/articles/Stochastic-Differential-Equations)\n",
    "which mention\n",
    "[Brownian motion and the Weiner process](https://www.quantstart.com/articles/Brownian-Motion-and-the-Wiener-Process)\n",
    "as a prerequisite. This is after mentioning a\n",
    "[rationale for stochastic calculus](https://www.quantstart.com/articles/Introduction-to-Stochastic-Calculus)\n",
    "(which I haven't chased down yet), and definitions of the\n",
    "[Markov and Martingale properties](https://www.quantstart.com/articles/The-Markov-and-Martingale-Properties),\n",
    "which I also have not looked at."
   ]
  }
 ],
 "metadata": {
  "kernelspec": {
   "display_name": "Python 3",
   "language": "python",
   "name": "python3"
  },
  "language_info": {
   "codemirror_mode": {
    "name": "ipython",
    "version": 3
   },
   "file_extension": ".py",
   "mimetype": "text/x-python",
   "name": "python",
   "nbconvert_exporter": "python",
   "pygments_lexer": "ipython3",
   "version": "3.5.3"
  }
 },
 "nbformat": 4,
 "nbformat_minor": 2
}
