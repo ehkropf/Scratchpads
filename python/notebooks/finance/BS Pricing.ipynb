{
 "cells": [
  {
   "cell_type": "markdown",
   "metadata": {},
   "source": [
    "# Black Scholes model experiments"
   ]
  },
  {
   "cell_type": "code",
   "execution_count": null,
   "metadata": {
    "collapsed": false
   },
   "outputs": [],
   "source": [
    "import pandas as pd\n",
    "import numpy as np\n",
    "import matplotlib.pyplot as plt\n",
    "from scipy.stats import norm\n",
    "from math import log, exp, sqrt"
   ]
  },
  {
   "cell_type": "markdown",
   "metadata": {},
   "source": [
    "We will consider a European call option $C$ with underlying stock priced at $S(t)$ with strike price $K$. We will also need to know the stock's volatility $\\sigma$ and the risk-free rate $r$. Then the option is priced via\n",
    "$$ C = N(d_1)S - N(d_2) K e^{-r\\tau} $$\n",
    "where\n",
    "$$ d_1 = \\frac{1}{\\sigma\\sqrt{\\tau}} \\left[ \\ln\\frac{S_t}{K} + \\left(r + \\frac{\\sigma^2}{2} \\right)\\tau \\right] $$\n",
    "and\n",
    "$$ d_2 = d_1 - \\sigma\\sqrt{\\tau}. $$"
   ]
  },
  {
   "cell_type": "markdown",
   "metadata": {},
   "source": [
    "### Sample data\n",
    "\n",
    "Using downloaded data for IBM from Google Finance."
   ]
  },
  {
   "cell_type": "code",
   "execution_count": null,
   "metadata": {
    "collapsed": true
   },
   "outputs": [],
   "source": [
    "ibm = pd.read_csv('ibm.csv')\n",
    "ibmS = ibm[' Close']\n",
    "ibmT = pd.to_datetime(ibm['Date'])"
   ]
  },
  {
   "cell_type": "code",
   "execution_count": null,
   "metadata": {
    "collapsed": false
   },
   "outputs": [],
   "source": [
    "fig, ax = plt.subplots(1)\n",
    "ax.plot(pd.to_datetime(ibm['Date']), ibm[' Close'])\n",
    "fig.autofmt_xdate()\n",
    "plt.show()"
   ]
  },
  {
   "cell_type": "markdown",
   "metadata": {},
   "source": [
    "Compute volatility as standard deviation of stock price."
   ]
  },
  {
   "cell_type": "code",
   "execution_count": null,
   "metadata": {
    "collapsed": false
   },
   "outputs": [],
   "source": [
    "mu = ibm[' Close'].mean()\n",
    "sigma = ibm[' Close'].std()"
   ]
  },
  {
   "cell_type": "markdown",
   "metadata": {},
   "source": [
    "### Basic pricing"
   ]
  },
  {
   "cell_type": "markdown",
   "metadata": {},
   "source": [
    "We'll assume a risk free rate of $r = 2\\%$ and 256 trading days."
   ]
  },
  {
   "cell_type": "code",
   "execution_count": null,
   "metadata": {
    "collapsed": true
   },
   "outputs": [],
   "source": [
    "r = 0.02\n",
    "td = 256"
   ]
  },
  {
   "cell_type": "code",
   "execution_count": null,
   "metadata": {
    "collapsed": false
   },
   "outputs": [],
   "source": [
    "def d1(S, tau, K, sig=sigma, rr=r):\n",
    "    return (np.log(S/K) + (rr + sig*sig/2)*tau)/(sig*np.sqrt(tau))\n",
    "\n",
    "def d2(S, tau, K, sig=sigma, rr=r):\n",
    "    return d1(S, tau, K, sig, rr) - sig*np.sqrt(tau)\n",
    "\n",
    "def callPrice(S, tau, K, sig=sigma, rr=r):\n",
    "#     sigt = sig*np.sqrt(tau)\n",
    "#     d1 = (np.log(S/K) + (rr + sig*sig/2)*tau)/sigt\n",
    "#     d2 = d1 - sigt\n",
    "    return (norm.cdf(d1(S, tau, K, sig, rr))*S \n",
    "             - norm.cdf(d2(S, tau, K, sig, rr))*K*np.exp(-rr*tau))"
   ]
  },
  {
   "cell_type": "markdown",
   "metadata": {},
   "source": [
    "Price as underlying changes."
   ]
  },
  {
   "cell_type": "code",
   "execution_count": null,
   "metadata": {
    "collapsed": false
   },
   "outputs": [],
   "source": [
    "S = np.arange(140, 161)\n",
    "tau = 2/td\n",
    "K = 155\n",
    "C = callPrice(S, tau, K)\n",
    "Nd1 = norm.cdf(d1(S, tau, K))\n",
    "\n",
    "plt.subplot(211)\n",
    "plt.plot(S, C)\n",
    "plt.subplot(212)\n",
    "plt.plot(S, Nd1)\n",
    "plt.show()"
   ]
  }
 ],
 "metadata": {
  "kernelspec": {
   "display_name": "Python 3",
   "language": "python",
   "name": "python3"
  },
  "language_info": {
   "codemirror_mode": {
    "name": "ipython",
    "version": 3
   },
   "file_extension": ".py",
   "mimetype": "text/x-python",
   "name": "python",
   "nbconvert_exporter": "python",
   "pygments_lexer": "ipython3",
   "version": "3.5.3"
  }
 },
 "nbformat": 4,
 "nbformat_minor": 2
}
