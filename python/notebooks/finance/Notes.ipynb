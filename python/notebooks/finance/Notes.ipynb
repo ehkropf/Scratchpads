{
 "cells": [
  {
   "cell_type": "markdown",
   "metadata": {},
   "source": [
    "# Finance notes\n",
    "\n",
    "From the simple to the sublime. (Sublime, really? You try to come up with something better.)"
   ]
  },
  {
   "cell_type": "markdown",
   "metadata": {},
   "source": [
    "## Very basics"
   ]
  },
  {
   "cell_type": "markdown",
   "metadata": {},
   "source": [
    "#### Future value of money\n",
    "\n",
    "The idea is that receiving money now is worth more than receiving it later. Let $r$ be some percentage expressed per unit of time, *e.g.* 4% per year; this is the *interest rate*. Let $n$ be the number of divisions of the unit of time or the *number of periods*. Then the future value $FV$ of money in terms of its present value $PV$ is given by\n",
    "$$ FV = PV \\left( 1 + \\frac{r}{n} \\right)^n. $$"
   ]
  },
  {
   "cell_type": "markdown",
   "metadata": {},
   "source": [
    "#### Interest\n",
    "\n",
    "In terms of an investment, we can look at the present value as the principle $P$, or original sum, and the future value as principle plus interest $I$. This then gives us a formula for interest by rearranging,\n",
    "$$ I = P\\left( \\left( 1 + \\frac{r}{n} \\right)^n - 1 \\right). $$\n",
    "Note simple interest is considered when $n=1$."
   ]
  },
  {
   "cell_type": "markdown",
   "metadata": {},
   "source": [
    "#### Multiple periods\n",
    "\n",
    "Both of the above can be easily modified for multiple periods, *e.g.* consider a 6 year investment with a given annual percentage rate. We do this by modifying the $PV$ multiplier, also known as the *compounding factor* to be\n",
    "$$ \\left( 1 + \\frac{r}{n} \\right)^{nt} $$\n",
    "where $t$ is the number of periods (6 in our example)."
   ]
  },
  {
   "cell_type": "markdown",
   "metadata": {},
   "source": [
    "#### Continuous compounding\n",
    "\n",
    "All of the above examples are for discrete compounding, but it is useful at times to consider *continuous* compounding. This is simply done by taking the limit as $n$ goes to infinity. We see that\n",
    "$$ \\lim_{n\\to \\infty} \\left( 1 + \\frac{r}{n} \\right)^{nt} = e^{rt} $$\n",
    "where $e$ is the base of the natural logarithm. So continuous compound interest is simply $I = P(e^{rt} - 1)$ and future value is $FV = PV\\,e^{rt}$."
   ]
  },
  {
   "cell_type": "markdown",
   "metadata": {},
   "source": [
    "## References\n",
    "\n",
    "We can literally make this stuff up."
   ]
  }
 ],
 "metadata": {
  "kernelspec": {
   "display_name": "Python 3",
   "language": "python",
   "name": "python3"
  },
  "language_info": {
   "codemirror_mode": {
    "name": "ipython",
    "version": 3
   },
   "file_extension": ".py",
   "mimetype": "text/x-python",
   "name": "python",
   "nbconvert_exporter": "python",
   "pygments_lexer": "ipython3",
   "version": "3.5.2"
  }
 },
 "nbformat": 4,
 "nbformat_minor": 2
}
