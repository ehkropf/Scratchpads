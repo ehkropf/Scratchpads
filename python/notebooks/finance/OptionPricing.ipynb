{
 "cells": [
  {
   "cell_type": "markdown",
   "metadata": {},
   "source": [
    "# Option pricing\n",
    "\n",
    "The goal here is to do an option pricing exercise. Inspired by [this blog post](http://firsttimeprogrammer.blogspot.co.uk/2015/08/european-option-pricing-with-python.html)."
   ]
  },
  {
   "cell_type": "markdown",
   "metadata": {},
   "source": [
    "## Definitions and concepts"
   ]
  },
  {
   "cell_type": "markdown",
   "metadata": {},
   "source": [
    "### Statistics\n",
    "\n",
    "Let $p(X)$ be the probability of a random variable. Replace sums with integrals involving the probability distribution function in the continuous case.\n",
    "\n",
    "Mean (expected value) is $E[X] = \\sum_{k=1}^n p(x_k)x_k$.\n",
    "\n",
    "Variance is $\\mathrm{Var}[X] = E\\left[ (X - E[X])^2 \\right] = E[X^2] - E[X]^2$."
   ]
  },
  {
   "cell_type": "markdown",
   "metadata": {},
   "source": [
    "### Geometric Brownian motion"
   ]
  },
  {
   "cell_type": "markdown",
   "metadata": {},
   "source": [
    "### Stock price drift and variance\n",
    "\n",
    "Define a *return* $r_i$ at time $t_i$ given prices $S_i$ and $S_{i-1}$ where $t_i - t_{i-1} > 0$ as\n",
    "$$ r_i = \\frac{p_i - S_{i-1}}{S_{i-1}}. $$\n",
    "This measures *percent* change. Then $\\log(1 + r_i)$ is normally distributed assuming prices are in a log normal distribution since\n",
    "$$ 1 + r_i = \\frac{S_i}{S_{i-1}} = \\exp^{\\log\\left(\\frac{S_i}{S_{i-1}}\\right)}. $$\n",
    "\n",
    "Drift ($\\mu$) and volatility ($\\sigma$) are defined in terms of expected value ($U$) and variance ($V^2$) of the log of price ratios. Let $n$ be the number of trading days (number of price points), which means $\\Delta t = 1/n$. Then\n",
    "$$ U = \\frac{1}{n-1} \\sum_{i=1}^{n-1} \\log\\left( \\frac{S_{i+1}}{S_i} \\right) $$\n",
    "and\n",
    "$$ V^2 = \\frac{1}{n-2} \\sum_{i=1}^{n-1} \\left( \\log\\left( \\frac{S_{i+1}}{S_i} \\right) - U \\right)^2. $$\n",
    "Note the last is a *sample* variance. Volatility and drift are then\n",
    "$$ \\mu = \\frac{U + V^2/2}{\\Delta t} $$\n",
    "and\n",
    "$$ \\sigma = \\frac{S}{\\sqrt{\\Delta t}}. $$\n"
   ]
  },
  {
   "cell_type": "markdown",
   "metadata": {},
   "source": [
    "### European option price"
   ]
  },
  {
   "cell_type": "markdown",
   "metadata": {},
   "source": [
    "# References\n",
    "\n",
    "* [Why log returns](https://quantivity.wordpress.com/2011/02/21/why-log-returns/)\n",
    "* [Drift and volatility of market prices](http://www.lifelong-learners.com/opt/SYL/s1node6.php)\n",
    "* [Texas A&M maths answer sheet](http://www.math.tamu.edu/~stecher/425/Sp01/exam2.pdf)"
   ]
  }
 ],
 "metadata": {
  "kernelspec": {
   "display_name": "Python 3",
   "language": "python",
   "name": "python3"
  },
  "language_info": {
   "codemirror_mode": {
    "name": "ipython",
    "version": 3
   },
   "file_extension": ".py",
   "mimetype": "text/x-python",
   "name": "python",
   "nbconvert_exporter": "python",
   "pygments_lexer": "ipython3",
   "version": "3.5.2"
  }
 },
 "nbformat": 4,
 "nbformat_minor": 2
}
