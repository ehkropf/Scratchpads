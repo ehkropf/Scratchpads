{
 "cells": [
  {
   "cell_type": "markdown",
   "metadata": {},
   "source": [
    "# Option pricing\n",
    "\n",
    "The goal here is to do an option pricing exercise. Inspired by [this blog post](http://firsttimeprogrammer.blogspot.co.uk/2015/08/european-option-pricing-with-python.html)."
   ]
  },
  {
   "cell_type": "code",
   "execution_count": null,
   "metadata": {
    "collapsed": false
   },
   "outputs": [],
   "source": [
    "import numpy as np\n",
    "import matplotlib.pyplot as plt\n",
    "import pandas as pd\n",
    "from math import sqrt, exp\n",
    "import numpy.random as rn"
   ]
  },
  {
   "cell_type": "markdown",
   "metadata": {},
   "source": [
    "## Definitions and concepts"
   ]
  },
  {
   "cell_type": "markdown",
   "metadata": {},
   "source": [
    "### Geometric Brownian motion\n",
    "\n",
    "Without going into a derivation, we can write\n",
    "$$ S(t_i) = S_0 \\prod_{k=1}^i Y_k $$\n",
    "where\n",
    "$$ Y_i = Y(t_i) = \\exp\\left( \\sigma\\sqrt{t_i - t_{i-1}}Z_i + \\mu(t_i - t_{i-1}) \\right) $$\n",
    "and the $Z_i \\sim N(0,1)$ are all *i.i.d.*"
   ]
  },
  {
   "cell_type": "code",
   "execution_count": null,
   "metadata": {
    "collapsed": true
   },
   "outputs": [],
   "source": [
    "def gbrownian(t, S0, mu, sigma):\n",
    "    dt = np.diff(t)\n",
    "    Z = rn.normal(size=dt.size)\n",
    "    S = np.array([exp(sigma*sqrt(dti)*Zi + mu*dti) for dti, Zi in zip(dt, Z)])\n",
    "    S = np.insert(S, 0, S0)\n",
    "    return np.cumprod(S)"
   ]
  },
  {
   "cell_type": "markdown",
   "metadata": {},
   "source": [
    "### Stock price drift and variance\n",
    "\n",
    "Define a *return* $r_i$ at time $t_i$ given prices $S_i$ and $S_{i-1}$ where $t_i - t_{i-1} > 0$ as\n",
    "$$ r_i = \\frac{p_i - S_{i-1}}{S_{i-1}}. $$\n",
    "This measures *percent* change. Then $\\log(1 + r_i)$ is normally distributed assuming prices are in a log normal distribution since\n",
    "$$ 1 + r_i = \\frac{S_i}{S_{i-1}} = e^{\\log\\left(\\frac{S_i}{S_{i-1}}\\right)}. $$\n",
    "\n",
    "Drift ($\\mu$) and volatility ($\\sigma$) are defined in terms of expected value ($U$) and variance ($V^2$) of the log of price ratios. Let $n$ be the number of trading days (number of price points), which means $\\Delta t = 1/n$. Then\n",
    "$$ U = \\frac{1}{n-1} \\sum_{i=1}^{n-1} \\log\\left( \\frac{S_{i+1}}{S_i} \\right) $$\n",
    "and\n",
    "$$ V^2 = \\frac{1}{n-2} \\sum_{i=1}^{n-1} \\left( \\log\\left( \\frac{S_{i+1}}{S_i} \\right) - U \\right)^2. $$\n",
    "Note the last is a *sample* variance. Volatility and drift are then\n",
    "$$ \\mu = \\frac{U + V^2/2}{\\Delta t} $$\n",
    "and\n",
    "$$ \\sigma = \\frac{V}{\\sqrt{\\Delta t}}. $$"
   ]
  },
  {
   "cell_type": "markdown",
   "metadata": {},
   "source": [
    "#### Example\n",
    "\n",
    "* We'll use IBM stock prices to compute drift and volatility. Prices downloaded from Google."
   ]
  },
  {
   "cell_type": "code",
   "execution_count": null,
   "metadata": {
    "collapsed": false
   },
   "outputs": [],
   "source": [
    "ibm = pd.read_csv('ibm.csv')\n",
    "S = ibm[' Close']\n",
    "n = S.size"
   ]
  },
  {
   "cell_type": "code",
   "execution_count": null,
   "metadata": {
    "collapsed": false
   },
   "outputs": [],
   "source": [
    "lograt = np.diff(np.log(S))\n",
    "U = np.sum(lograt)/(n - 1)\n",
    "V2 = np.sum((lograt - U)**2)/(n - 2)\n",
    "dt = 1/n\n",
    "mu = (U + V2/2)/dt\n",
    "sigma = sqrt(V2/dt)\n",
    "print('Drift:', mu)\n",
    "print('Volatility:', sigma)"
   ]
  },
  {
   "cell_type": "markdown",
   "metadata": {},
   "source": [
    "* Now we'll consider 10 simulations of price using the calculated drift and volatility, and plot these (in chartreuse) against the actual price (in black)."
   ]
  },
  {
   "cell_type": "code",
   "execution_count": null,
   "metadata": {
    "collapsed": false
   },
   "outputs": [],
   "source": [
    "t = np.arange(0, n, dtype=float)/(n - 1)\n",
    "S0 = S[0]\n",
    "\n",
    "for _ in range(0, 10):\n",
    "    Sb = gbrownian(t, S0, mu, sigma)\n",
    "    plt.plot(Sb, 'xkcd:chartreuse')\n",
    "\n",
    "plt.plot(S, 'k')\n",
    "plt.xlim([0, n-1])\n",
    "plt.show()"
   ]
  },
  {
   "cell_type": "markdown",
   "metadata": {},
   "source": [
    "## European option price"
   ]
  },
  {
   "cell_type": "code",
   "execution_count": null,
   "metadata": {
    "collapsed": false
   },
   "outputs": [],
   "source": [
    "S0 = 173.39\n",
    "strike = 130.\n",
    "rr = 0.03     # Risk free rate. WAG, because I don't know any better.\n",
    "Nmc = 100000   # Number of trials.\n",
    "days = 2     # Number of trading days to consider.\n",
    "nopay = 0\n",
    "payoffs = []\n",
    "\n",
    "for i in range(Nmc):\n",
    "    sim = gbrownian(np.arange(0, days)/(days - 1), S0, mu, sigma)\n",
    "    sim = sim[-1]\n",
    "    if sim > strike:\n",
    "        payoffs.append((sim - strike)*exp(-rr/365.*days))\n",
    "    else:\n",
    "        nopay += 1\n",
    "\n",
    "payoffs = np.array(payoffs)\n",
    "price = np.sum(payoffs)/payoffs.size\n",
    "\n",
    "print('Price: ', price)\n",
    "print('No pay ratio: ', nopay/float(Nmc))"
   ]
  },
  {
   "cell_type": "markdown",
   "metadata": {},
   "source": [
    "# References\n",
    "\n",
    "* [Why log returns](https://quantivity.wordpress.com/2011/02/21/why-log-returns/)\n",
    "* [Drift and volatility of market prices](http://www.lifelong-learners.com/opt/SYL/s1node6.php)\n",
    "* [Texas A&M maths answer sheet](http://www.math.tamu.edu/~stecher/425/Sp01/exam2.pdf)"
   ]
  }
 ],
 "metadata": {
  "kernelspec": {
   "display_name": "Python 3",
   "language": "python",
   "name": "python3"
  },
  "language_info": {
   "codemirror_mode": {
    "name": "ipython",
    "version": 3
   },
   "file_extension": ".py",
   "mimetype": "text/x-python",
   "name": "python",
   "nbconvert_exporter": "python",
   "pygments_lexer": "ipython3",
   "version": "3.5.2"
  }
 },
 "nbformat": 4,
 "nbformat_minor": 2
}
