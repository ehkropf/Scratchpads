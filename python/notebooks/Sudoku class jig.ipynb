{
 "cells": [
  {
   "cell_type": "code",
   "execution_count": 26,
   "metadata": {
    "collapsed": true
   },
   "outputs": [],
   "source": [
    "import random"
   ]
  },
  {
   "cell_type": "code",
   "execution_count": 83,
   "metadata": {},
   "outputs": [],
   "source": [
    "class Entry:\n",
    "    \"\"\"Sudoku grid entry.\"\"\"\n",
    "    def __init__(self, index, value):\n",
    "        self.value = value\n",
    "        self.column = (index % 9) + 1\n",
    "        self.row = (index // 9) + 1\n",
    "        self.region = 3*((self.row - 1) // 3) + (self.column - 1) // 3 + 1\n",
    "        \n",
    "    def __repr__(self):\n",
    "        return '<Entry value:' + str(self.value) + ' row:' + str(self.row) \\\n",
    "               + ' column: ' + str(self.column) + ' region:' + str(self.region) \\\n",
    "               + '>'\n",
    "            \n",
    "    def __str__(self):\n",
    "        return self.value\n",
    "        \n",
    "class Sudoku:\n",
    "    \"\"\"Sudoku solution.\"\"\"\n",
    "    def __init__(self):\n",
    "        self.entries = [Entry(random.randint(1, 9)) for _ in range(81)]\n",
    "#         entries = []\n",
    "        \n",
    "    def __str__(self):\n",
    "        \"\"\"Convert to grid as string.\"\"\"\n",
    "        grid = ''\n",
    "        row = 0\n",
    "        while row < 9:\n",
    "            for j in range(3):\n",
    "                for k in range(3):\n",
    "                    i = 9*row + 3*j + k\n",
    "                    grid += ' ' + str(self.entries[i].value)\n",
    "            \n",
    "                grid += ' '\n",
    "                if j < 2:\n",
    "                    grid += '|'\n",
    "    \n",
    "            grid += '\\n'\n",
    "            row += 1\n",
    "            if row == 3 or row ==6:\n",
    "                grid += separatorRow() + '\\n'\n",
    "            elif row < 9:\n",
    "                grid += blankRow() + '\\n'\n",
    "                \n",
    "        return grid\n",
    "    \n",
    "    def __repr__(self):\n",
    "        return '<Sudoku\\n' + str(self) + '>'\n",
    "                \n",
    "    def _blankRow():\n",
    "        \"\"\"Grid blank row.\"\"\"\n",
    "        return '       |       |      '\n",
    "\n",
    "    def _separatorRow():\n",
    "        \"\"\"Grid separator row.\"\"\"\n",
    "        return '-------+-------+-------'"
   ]
  }
 ],
 "metadata": {
  "kernelspec": {
   "display_name": "Python 3",
   "language": "python",
   "name": "python3"
  },
  "language_info": {
   "codemirror_mode": {
    "name": "ipython",
    "version": 3
   },
   "file_extension": ".py",
   "mimetype": "text/x-python",
   "name": "python",
   "nbconvert_exporter": "python",
   "pygments_lexer": "ipython3",
   "version": "3.5.4"
  }
 },
 "nbformat": 4,
 "nbformat_minor": 2
}
