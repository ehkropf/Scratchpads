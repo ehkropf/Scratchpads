{
 "cells": [
  {
   "cell_type": "code",
   "execution_count": null,
   "metadata": {},
   "outputs": [],
   "source": [
    "from random import randint"
   ]
  },
  {
   "cell_type": "code",
   "execution_count": null,
   "metadata": {
    "collapsed": true
   },
   "outputs": [],
   "source": [
    "class Entry:\n",
    "    \"\"\"Sudoku grid entry.\"\"\"\n",
    "    def __init__(self, index, value):\n",
    "        self.value = value\n",
    "        self.column = (index % 9) + 1\n",
    "        self.row = (index // 9) + 1\n",
    "        self.region = 3*((self.row - 1) // 3) + (self.column - 1) // 3 + 1\n",
    "        \n",
    "    def __repr__(self):\n",
    "        return '<Entry value:' + str(self.value) + ' row:' + str(self.row) \\\n",
    "               + ' column: ' + str(self.column) + ' region:' + str(self.region) \\\n",
    "               + '>'\n",
    "            \n",
    "    def __str__(self):\n",
    "        return self.value"
   ]
  },
  {
   "cell_type": "code",
   "execution_count": null,
   "metadata": {
    "collapsed": true
   },
   "outputs": [],
   "source": [
    "class Sudoku:\n",
    "    \"\"\"Sudoku solution.\"\"\"\n",
    "    \n",
    "    def __init__(self):\n",
    "        \"\"\"Create soluiton with backtracking algorithm.\"\"\"        \n",
    "        self.entries = []\n",
    "        available = [[i+1 for i in range(9)] for _ in range(81)]\n",
    "        c = 0\n",
    "        \n",
    "        while c < 81:\n",
    "            if len(available[c]) > 0:\n",
    "                i = randint(0, len(available[c])-1)\n",
    "                test = Entry(c, available[c][i])\n",
    "                del available[c][i]\n",
    "                \n",
    "                if not self._conflicts(test):\n",
    "                    self.entries.append(test)\n",
    "                    c += 1\n",
    "                else:\n",
    "                    continue\n",
    "            else:\n",
    "                # Backtrack\n",
    "                available[c] = [i+1 for i in range(9)]\n",
    "                c -= 1\n",
    "                del self.entries[c]\n",
    "        \n",
    "    def __str__(self):\n",
    "        \"\"\"Convert to grid as string.\"\"\"        \n",
    "        grid = ''\n",
    "        row = 0\n",
    "        while row < 9:\n",
    "            for j in range(3):\n",
    "                for k in range(3):\n",
    "                    i = 9*row + 3*j + k\n",
    "                    grid += ' ' + str(self.entries[i].value)\n",
    "                grid += ' '\n",
    "                if j < 2:\n",
    "                    grid += '|'\n",
    "            grid += '\\n'\n",
    "            row += 1\n",
    "            if row == 3 or row ==6:\n",
    "                grid += self._separatorRow() + '\\n'\n",
    "            elif row < 9:\n",
    "                grid += self._blankRow() + '\\n'\n",
    "        return grid\n",
    "    \n",
    "    def __repr__(self):\n",
    "        \"\"\"Just a wrapper for __str__, really.\"\"\"\n",
    "        return '<Sudoku\\n' + str(self) + '>'\n",
    "\n",
    "    @staticmethod\n",
    "    def _blankRow():\n",
    "        \"\"\"Grid blank row.\"\"\"\n",
    "        return '       |       |      '\n",
    "\n",
    "    @staticmethod\n",
    "    def _separatorRow():\n",
    "        \"\"\"Grid separator row.\"\"\"\n",
    "        return '-------+-------+-------'\n",
    "    \n",
    "    def _conflicts(self, test):\n",
    "        \"\"\"Does test entry conflict with existing entries?\"\"\"\n",
    "        \n",
    "        for s in self.entries:\n",
    "            if (s.row == test.row or s.column == test.column\n",
    "                or s.region == test.region) and s.value == test.value:\n",
    "                return True\n",
    "        return False"
   ]
  },
  {
   "cell_type": "code",
   "execution_count": null,
   "metadata": {},
   "outputs": [],
   "source": [
    "sol = Sudoku()\n",
    "sol"
   ]
  }
 ],
 "metadata": {
  "kernelspec": {
   "display_name": "Python 3",
   "language": "python",
   "name": "python3"
  },
  "language_info": {
   "codemirror_mode": {
    "name": "ipython",
    "version": 3
   },
   "file_extension": ".py",
   "mimetype": "text/x-python",
   "name": "python",
   "nbconvert_exporter": "python",
   "pygments_lexer": "ipython3",
   "version": "3.5.4"
  }
 },
 "nbformat": 4,
 "nbformat_minor": 2
}
