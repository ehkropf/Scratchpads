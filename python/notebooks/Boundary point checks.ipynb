{
 "cells": [
  {
   "cell_type": "code",
   "execution_count": 1,
   "metadata": {},
   "outputs": [],
   "source": [
    "import numpy as np\n",
    "import arma"
   ]
  },
  {
   "cell_type": "code",
   "execution_count": 2,
   "metadata": {},
   "outputs": [],
   "source": [
    "class Domain:\n",
    "    '''Basically centers and radii.'''\n",
    "    \n",
    "    def __init__(self, centers, radii):\n",
    "        '''Define domain.'''\n",
    "        \n",
    "        self.centers = centers #[complex(0, 0)] + centers\n",
    "        self.radii = radii #[1] + radii"
   ]
  },
  {
   "cell_type": "code",
   "execution_count": 3,
   "metadata": {},
   "outputs": [],
   "source": [
    "def polesInHoles(points, domain):\n",
    "    '''Function with poles in center of given domains.'''\n",
    "    \n",
    "    # Points is expected to be an np array.\n",
    "    v = np.zeros(points.shape, dtype=np.complex128)\n",
    "    for c in domain.centers:\n",
    "        v += 1/(points - c)\n",
    "    return v"
   ]
  },
  {
   "cell_type": "code",
   "execution_count": 4,
   "metadata": {},
   "outputs": [],
   "source": [
    "domain = Domain([complex(-0.2517,0.3129), complex(0.2307,-0.4667)],\n",
    "                [0.2377, 0.1557])"
   ]
  },
  {
   "cell_type": "code",
   "execution_count": 7,
   "metadata": {},
   "outputs": [
    {
     "name": "stdout",
     "output_type": "stream",
     "text": [
      "(256, 3)\n"
     ]
    }
   ],
   "source": [
    "datadir = 'polycompdata'\n",
    "\n",
    "Pmac = arma.matFromFile(datadir + '/bpoints.mac.arma')\n",
    "Plin = arma.matFromFile(datadir + '/bpoints.lin.arma')\n",
    "\n",
    "Bmac = arma.matFromFile(datadir + '/bvalues.mac.arma')\n",
    "Blin = arma.matFromFile(datadir + '/bvalues.lin.arma')\n",
    "\n",
    "print(Plin.shape)"
   ]
  },
  {
   "cell_type": "code",
   "execution_count": 6,
   "metadata": {},
   "outputs": [
    {
     "data": {
      "text/plain": [
       "array([[1.70211114, 3.84047653, 7.05130988],\n",
       "       [1.68234034, 3.84406644, 7.05306971],\n",
       "       [1.66292483, 3.84485358, 7.0509678 ],\n",
       "       [1.64386309, 3.84284576, 7.04500645]])"
      ]
     },
     "execution_count": 6,
     "metadata": {},
     "output_type": "execute_result"
    }
   ],
   "source": [
    "V = polesInHoles(Plin, domain)\n",
    "V[0:4,:].real"
   ]
  }
 ],
 "metadata": {
  "kernelspec": {
   "display_name": "Python 3",
   "language": "python",
   "name": "python3"
  },
  "language_info": {
   "codemirror_mode": {
    "name": "ipython",
    "version": 3
   },
   "file_extension": ".py",
   "mimetype": "text/x-python",
   "name": "python",
   "nbconvert_exporter": "python",
   "pygments_lexer": "ipython3",
   "version": "3.6.8"
  }
 },
 "nbformat": 4,
 "nbformat_minor": 2
}
